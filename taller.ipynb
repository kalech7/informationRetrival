{
 "cells": [
  {
   "cell_type": "code",
   "execution_count": 2,
   "metadata": {},
   "outputs": [
    {
     "name": "stdout",
     "output_type": "stream",
     "text": [
      "True\n",
      "12.4\n",
      "NVIDIA GeForce RTX 3050 Ti Laptop GPU\n"
     ]
    }
   ],
   "source": [
    "import torch\n",
    "print(torch.cuda.is_available())\n",
    "print(torch.version.cuda)\n",
    "print(torch.cuda.get_device_name(0) if torch.cuda.is_available() else \"No GPU found\")\n"
   ]
  },
  {
   "cell_type": "code",
   "execution_count": 3,
   "metadata": {},
   "outputs": [
    {
     "name": "stdout",
     "output_type": "stream",
     "text": [
      "Usando el dispositivo: cuda\n",
      "Lote 1 procesado exitosamente.\n",
      "Lote 2 procesado exitosamente.\n",
      "Lote 3 procesado exitosamente.\n",
      "Lote 4 procesado exitosamente.\n",
      "Lote 5 procesado exitosamente.\n",
      "Lote 6 procesado exitosamente.\n",
      "Lote 7 procesado exitosamente.\n",
      "Se han agregado 34886 documentos y generado sus embeddings.\n"
     ]
    }
   ],
   "source": [
    "import pandas as pd\n",
    "import chromadb\n",
    "from chromadb.utils import embedding_functions\n",
    "import torch\n",
    "\n",
    "# Verificar si la GPU está disponible\n",
    "device = \"cuda\" if torch.cuda.is_available() else \"cpu\"\n",
    "print(f\"Usando el dispositivo: {device}\")\n",
    "\n",
    "# Cargar el archivo CSV de películas\n",
    "movies_df = pd.read_csv(\"./wiki_movie_plots_deduped.csv\")\n",
    "\n",
    "# Filtrar campos necesarios\n",
    "movies_df = movies_df[movies_df['Plot'].notna()]  # Eliminar filas con Plot vacío\n",
    "documents = movies_df['Plot'].tolist()  # Lista de las tramas\n",
    "titles = movies_df['Title'].tolist()   # Lista de los títulos\n",
    "\n",
    "# Configurar cliente Chroma\n",
    "client = chromadb.Client()\n",
    "\n",
    "# Crear la función de embeddings con GPU\n",
    "embedding_function = embedding_functions.SentenceTransformerEmbeddingFunction(\n",
    "    model_name=\"all-MiniLM-L6-v2\",  # Modelo eficiente y rápido\n",
    "    device=device  # Especificar el dispositivo (GPU o CPU)\n",
    ")\n",
    "\n",
    "# Crear colección con la función de embeddings configurada\n",
    "collection = client.get_or_create_collection(\n",
    "    name=\"movies_collection\",\n",
    "    embedding_function=embedding_function\n",
    ")\n",
    "\n",
    "# Generar IDs únicos para cada documento\n",
    "ids = [f\"movie_{i}\" for i in range(len(movies_df))]\n",
    "\n",
    "# Dividir los datos en lotes\n",
    "batch_size = 5000  # Tamaño del lote (ajustar según sea necesario)\n",
    "for i in range(0, len(documents), batch_size):\n",
    "    batch_documents = documents[i:i+batch_size]\n",
    "    batch_titles = titles[i:i+batch_size]\n",
    "    batch_ids = ids[i:i+batch_size]\n",
    "    \n",
    "    # Agregar el lote a la colección\n",
    "    collection.add(\n",
    "        documents=batch_documents,  # Tramas del lote\n",
    "        metadatas=[{\"title\": title} for title in batch_titles],  # Metadata del lote\n",
    "        ids=batch_ids  # IDs únicos del lote\n",
    "    )\n",
    "    print(f\"Lote {i // batch_size + 1} procesado exitosamente.\")\n",
    "\n",
    "print(f\"Se han agregado {len(documents)} documentos y generado sus embeddings.\")\n"
   ]
  },
  {
   "cell_type": "code",
   "execution_count": 10,
   "metadata": {},
   "outputs": [
    {
     "name": "stdout",
     "output_type": "stream",
     "text": [
      "Resultado 1:\n",
      "Trama: Industrialist John Hammond and his bioengineering company, InGen, have created a theme park called Jurassic Park on Isla Nublar, a Costa Rican island, populated with cloned dinosaurs. After one of the dinosaur handlers is killed by a Velociraptor, the park's investors, represented by lawyer Donald Gennaro, demand that experts visit the park and certify it is safe. Gennaro invites mathematician and chaos theorist Ian Malcolm, while Hammond invites paleontologist Dr. Alan Grant and paleobotanist Dr. Ellie Sattler. Upon arrival, the group is stunned to see a live Brachiosaurus.\n",
      "At the park's visitor center, the group learns that the cloning was accomplished by extracting dinosaur DNA from mosquitoes that had been preserved in amber. DNA from frogs was used to fill in gaps in the dinosaur genomes. To prevent breeding, all the dinosaurs were made female. Malcolm scoffs at the idea of such controlled breeding, declaring it will inevitably break down. The crew witness the birth of a baby raptor and visit the raptor enclosure. During a luncheon, the group debates the ethics of cloning and the creation of the park, with Dr. Malcolm giving a harsh warning about the implications of genetic engineering as a whole.\n",
      "The group is then joined by Hammond's grandchildren, Lex and Tim Murphy, for a tour of the park, while Hammond oversees the trip from the park's control room. The tour does not go as planned, with most of the dinosaurs failing to appear and the group encountering a sick Triceratops. The tour is cut short as a tropical storm approaches Isla Nublar. Most of the park employees evacuate on a boat to the mainland while the visitors return to their electric tour vehicles, except Sattler who stays with the park's veterinarian to study the Triceratops.\n",
      "Jurassic Park's lead computer programmer, Dennis Nedry, has been bribed by Dodgson, a man working for Hammond's corporate rival, to steal valuable fertilized embryos. Nedry deactivates the park's security system to gain access to the embryo storage room where he stores the embryos inside a canister disguised as Barbasol shaving cream, supplied by Dodgson. Because of Nedry, the power goes out and the tour vehicles become stuck. Most of the park's electric fences are deactivated as well, allowing the Tyrannosaurus to escape and attack the tour group. Grant, Lex, and Tim escape, while the Tyrannosaurus injures Malcolm and devours Gennaro. On his way to deliver the embryos to the island's docks, Nedry becomes lost in the rain, crashes his Jeep Wrangler, and is killed by a Dilophosaurus.\n",
      "Sattler assists the park's game warden, Robert Muldoon, in a search for survivors, but they only find an injured Malcolm, before the Tyrannosaurus returns. Grant, Tim, and Lex take shelter in a treetop. Later, they discover the broken shells of dinosaur eggs. Grant concludes that the dinosaurs have been breeding, which occurred because of their frog DNA—West African bullfrogs can change their sex in a single-sex environment, allowing the dinosaurs to do so as well, proving Malcolm right.\n",
      "Unable to decipher Nedry's code to reactivate the security system, Hammond and the park's chief engineer Ray Arnold opt to reboot the entire park's system. The group shuts down the park's grid and retreats to an emergency bunker, while Arnold heads to a maintenance shed to complete the rebooting process. When Arnold fails to return, Sattler and Muldoon head to the shed. They discover the shutdown has deactivated the remaining fences and released the raptors. Muldoon distracts the raptors, while Sattler goes to turn the power back on, before being attacked by a raptor and discovering Arnold's severed arm. Meanwhile, Muldoon is caught off-guard and killed by the other two raptors.\n",
      "Grant, Tim and Lex finally reach the visitor center. Grant heads out to look for Sattler, leaving Tim and Lex inside. Tim and Lex are pursued by the raptors in an industrial kitchen, but they escape and join Grant and Sattler. Lex restores full power from the control room, allowing the group to call Hammond, who in turn calls for help. The group is cornered by the raptors, but they are able to escape when the Tyrannosaurus suddenly appears and kills the raptors. Hammond arrives in a Jeep with Malcolm, and the entire group boards a helicopter to leave the island.\n",
      "--------------------------------------------------\n",
      "Resultado 2:\n",
      "Trama: The video—with beginning scenes filmed in 1987—begins with a young boy named Phillip (played by Fred Savage) sitting in his bedroom, listening to loud music, and struggling to find an idea for a class report on a science topic. While struggling to find some ideas—and annoying his mother (offscreen) with his loud music—a song plays on his boom box, titled Mesozoic Mind, and the song provides him with an inspiration for his report: DINOSAURS!\n",
      "Philip then goes to sleep and has a dream where he discovers that the search for the truth about these magnificent animals and their astonishing 160-million-year success on earth is probably the most fascinating speculation there is. Phillip then finishes his report and presents it to the class. The class report is then covered through the 1980 claymation short Dinosaur by Will Vinton Productions.\n",
      "--------------------------------------------------\n",
      "Resultado 3:\n",
      "Trama: Professor Challenger (Claude Rains), a famed biologist and anthropologist, reports to the London Zoological Society that he has discovered living specimens of supposedly extinct animals, including dinosaurs, on an expedition to the Amazon Basin. When his colleagues dismiss his claims, he challenges the Society to mount another expedition to verify his story. Challenger and his companions travel to an isolated plateau, where they encounter prehistoric creatures and other hazards, and discover the legacy of a previous explorer that reveals the hidden past of one of their team. During a volcanic eruption, they escape from the plateau carrying the egg of a Tyrannosaurus Rex. The egg hatches when it is dropped by accident, and Professor Challenger decides to take the infant dinosaur back to London with them.\n",
      "--------------------------------------------------\n",
      "Resultado 4:\n",
      "Trama: In an alternate futuristic society where humans and anthropomorphic dinosaurs co-exist, a tough police detective named Katie Coltraine (Whoopi Goldberg) is paired with a Tyrannosaurus named Theodore Rex (George Newbern) to find the killer of dinosaurs and other prehistoric animals leading them to a ruthless billionaire bent on killing off mankind by creating a new ice age.\n",
      "--------------------------------------------------\n",
      "Resultado 5:\n",
      "Trama: During an expedition into Central Africa, paleontologist Dr. Susan Matthews-Loomis (Sean Young) and her husband George Loomis (William Katt) attempt to track down evidence of a local monster legend. The monster, which the local natives refer to as Mokele-mbembe, shares many characteristics with the Sauropod order of dinosaurs. During the expedition, they discover Brontosaurs in the deep jungle and are further amazed when the animals show very little fear of them. The couple begins observing the creatures and become especially enamored with the curious young offspring of the pair, whom they nickname \"Baby\". Unfortunately, the discovery soon places the dinosaurs in jeopardy from both the local military as well as fellow scientist Dr. Eric Kiviat (Patrick McGoohan).\n",
      "Whereas Dr. Kiviat sees Baby and his parents as his ticket to fame & fortune, the African military led by Colonel Nsogbu (Olu Jacobs) sees the dinosaurs as a threat and makes several attempts to destroy them. During one such attempt, one of the adult Brontosaurs is killed and the other captured. The Loomises are able to escape with Baby, but quickly find themselves lost in the jungle while being pursued by Colonel Nsogbu's forces. After finally escaping their pursuers, the pair decide to circle back and rescue the captive parent, whom Dr. Kiviat has persuaded Nsogbu to transport back to civilization.\n",
      "With the aid of the local tribe - who see Baby and his parents as legends - George and Susan are able to break into the military compound and release the adult Brontosaur. During the escape, both Kiviat and Nsogbu are killed. Afterwards, the Loomises take the pair to a secluded jungle lagoon and say a tearful goodbye to Baby as he follows his lone parent away into the deeper parts of the jungle.\n",
      "--------------------------------------------------\n"
     ]
    }
   ],
   "source": [
    "# Definir una consulta (puede ser una trama de película o cualquier texto)\n",
    "query = \"dinosaurs\"\n",
    "\n",
    "# Realizar la consulta en la colección\n",
    "results = collection.query(\n",
    "    query_texts=[query],  # Pasar la consulta como texto\n",
    "    n_results=5  # Número de resultados a devolver\n",
    ")\n",
    "\n",
    "# Mostrar los resultados\n",
    "for i, document in enumerate(results['documents'][0]):  # Accedemos a la lista de documentos en el primer índice\n",
    "    print(f\"Resultado {i + 1}:\")\n",
    "    print(f\"Trama: {document}\")  # Solo mostramos la trama si no hay metadata disponible\n",
    "    print(\"-\" * 50)\n"
   ]
  }
 ],
 "metadata": {
  "kernelspec": {
   "display_name": "Python 3",
   "language": "python",
   "name": "python3"
  },
  "language_info": {
   "codemirror_mode": {
    "name": "ipython",
    "version": 3
   },
   "file_extension": ".py",
   "mimetype": "text/x-python",
   "name": "python",
   "nbconvert_exporter": "python",
   "pygments_lexer": "ipython3",
   "version": "3.13.1"
  }
 },
 "nbformat": 4,
 "nbformat_minor": 2
}
